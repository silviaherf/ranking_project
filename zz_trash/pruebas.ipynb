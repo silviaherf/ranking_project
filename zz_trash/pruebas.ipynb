{
 "cells": [
  {
   "cell_type": "code",
   "execution_count": 84,
   "metadata": {},
   "outputs": [],
   "source": [
    "import os\n",
    "from dotenv import load_dotenv\n",
    "from pathlib import Path \n",
    "env_path = Path('zz_trash') / '.env'\n",
    "load_dotenv(dotenv_path=env_path)\n",
    "import requests\n",
    "from bs4 import BeautifulSoup\n",
    "import re"
   ]
  },
  {
   "cell_type": "code",
   "execution_count": 72,
   "metadata": {},
   "outputs": [],
   "source": [
    "#Descartado de momento\n",
    "\n",
    "def get_repos(api_key=os.getenv('GH_APIKEY'),i=0):\n",
    "    \"\"\"\n",
    "    This function gets information out of an API for the year previously entered as a terminal argument.\n",
    "    \"\"\"\n",
    "    baseUrl=\"https://api.github.com\"\n",
    "    endpoint=f'/repos/ironhack-datalabs/datamad0820/pulls?state=closed&page={i}'\n",
    "    url = f\"{baseUrl}{endpoint}\"\n",
    "\n",
    "\n",
    "    headers = {\n",
    "        \"Authorization\": f\"Bearer {api_key}\"\n",
    "    }\n",
    "    # make the request and get the response using HTTP GET verb \n",
    "    res = requests.get(url)\n",
    "    print(f\"Request data to {res.url} status_code:{res.status_code}\")\n",
    "    \n",
    "    data = res.json()\n",
    "\n",
    "\n",
    "    if res.status_code != 200:\n",
    "        data=res.json()\n",
    "        raise ValueError(f'Invalid Github API call: {data[\"message\"]}\\nSee more in {data[\"documentation_url\"]}')\n",
    "        \n",
    "    else:\n",
    "        print(f\"Requested data to {baseUrl}; status_code:{res.status_code}\")\n",
    "        data=res.json()\n",
    "        return data\n"
   ]
  },
  {
   "cell_type": "code",
   "execution_count": 151,
   "metadata": {},
   "outputs": [],
   "source": [
    "def get_repos(api_key=os.getenv('GH_APIKEY'),i=1):\n",
    "    \"\"\"\n",
    "    This function gets information out of an API for the year previously entered as a terminal argument.\n",
    "    \"\"\"\n",
    "    baseUrl=\"https://api.github.com\"\n",
    "    endpoint=f'/repos/ironhack-datalabs/datamad0820/pulls?state=all&page={i}'\n",
    "    url = f\"{baseUrl}{endpoint}\"\n",
    "\n",
    "\n",
    "    headers = {\n",
    "        \"Authorization\": f\"Bearer {api_key}\"\n",
    "    }\n",
    "    # make the request and get the response using HTTP GET verb \n",
    "    res = requests.get(url)\n",
    "    print(f\"Request data to {res.url} status_code:{res.status_code}\")\n",
    "\n",
    "\n",
    "\n",
    "    if res.status_code != 200:\n",
    "        \n",
    "        raise ValueError(f'Invalid Github API call: {data[\"message\"]}\\nSee more in {data[\"documentation_url\"]}')\n",
    "        \n",
    "    else:\n",
    "        print(f\"Requested data to {baseUrl}; status_code:{res.status_code}\")\n",
    "        \n",
    "        return res\n"
   ]
  },
  {
   "cell_type": "code",
   "execution_count": 152,
   "metadata": {},
   "outputs": [
    {
     "name": "stdout",
     "output_type": "stream",
     "text": [
      "Request data to https://api.github.com/repos/ironhack-datalabs/datamad0820/pulls?state=all&page=1 status_code:200\n",
      "Requested data to https://api.github.com; status_code:200\n"
     ]
    },
    {
     "data": {
      "text/plain": [
       "{'date': 'Mon, 21 Sep 2020 16:01:44 GMT', 'content-type': 'application/json; charset=utf-8', 'server': 'GitHub.com', 'status': '200 OK', 'cache-control': 'public, max-age=60, s-maxage=60', 'vary': 'Accept, Accept-Encoding, Accept, X-Requested-With, Accept-Encoding', 'etag': 'W/\"0ca7d474c8c76b9242fe4f70601c1f4cf62893a8a8d57a289fabe6d8b2b01268\"', 'x-github-media-type': 'github.v3; format=json', 'link': '<https://api.github.com/repositories/288154375/pulls?state=all&page=2>; rel=\"next\", <https://api.github.com/repositories/288154375/pulls?state=all&page=18>; rel=\"last\"', 'access-control-expose-headers': 'ETag, Link, Location, Retry-After, X-GitHub-OTP, X-RateLimit-Limit, X-RateLimit-Remaining, X-RateLimit-Used, X-RateLimit-Reset, X-OAuth-Scopes, X-Accepted-OAuth-Scopes, X-Poll-Interval, X-GitHub-Media-Type, Deprecation, Sunset', 'access-control-allow-origin': '*', 'strict-transport-security': 'max-age=31536000; includeSubdomains; preload', 'x-frame-options': 'deny', 'x-content-type-options': 'nosniff', 'x-xss-protection': '1; mode=block', 'referrer-policy': 'origin-when-cross-origin, strict-origin-when-cross-origin', 'content-security-policy': \"default-src 'none'\", 'content-encoding': 'gzip', 'X-Ratelimit-Limit': '60', 'X-Ratelimit-Remaining': '48', 'X-Ratelimit-Reset': '1600707657', 'X-Ratelimit-Used': '12', 'Accept-Ranges': 'bytes', 'Transfer-Encoding': 'chunked', 'X-GitHub-Request-Id': '98D4:131CC:9405AC9:B20AB7A:5F68CE67'}"
      ]
     },
     "execution_count": 152,
     "metadata": {},
     "output_type": "execute_result"
    }
   ],
   "source": [
    "get_repos().headers"
   ]
  },
  {
   "cell_type": "code",
   "execution_count": 153,
   "metadata": {},
   "outputs": [
    {
     "name": "stdout",
     "output_type": "stream",
     "text": [
      "Request data to https://api.github.com/repos/ironhack-datalabs/datamad0820/pulls?state=all&page=1 status_code:200\n",
      "Requested data to https://api.github.com; status_code:200\n"
     ]
    }
   ],
   "source": [
    "response=get_repos()"
   ]
  },
  {
   "cell_type": "code",
   "execution_count": 154,
   "metadata": {},
   "outputs": [
    {
     "data": {
      "text/plain": [
       "'<https://api.github.com/repositories/288154375/pulls?state=all&page=2>; rel=\"next\", <https://api.github.com/repositories/288154375/pulls?state=all&page=18>; rel=\"last\"'"
      ]
     },
     "execution_count": 154,
     "metadata": {},
     "output_type": "execute_result"
    }
   ],
   "source": [
    "response.headers['link']"
   ]
  },
  {
   "cell_type": "code",
   "execution_count": 157,
   "metadata": {},
   "outputs": [
    {
     "data": {
      "text/plain": [
       "167"
      ]
     },
     "execution_count": 157,
     "metadata": {},
     "output_type": "execute_result"
    }
   ],
   "source": [
    "len(response.headers['link'])"
   ]
  },
  {
   "cell_type": "code",
   "execution_count": 166,
   "metadata": {},
   "outputs": [
    {
     "data": {
      "text/plain": [
       "['page=2', 'page=1']"
      ]
     },
     "execution_count": 166,
     "metadata": {},
     "output_type": "execute_result"
    }
   ],
   "source": [
    "#pendiente buscar rel last\n",
    "re.findall(r'page=[\\d\\{2}]',response.headers['link'])"
   ]
  },
  {
   "cell_type": "code",
   "execution_count": 195,
   "metadata": {},
   "outputs": [
    {
     "data": {
      "text/plain": [
       "['18>; rel=\"last\"']"
      ]
     },
     "execution_count": 195,
     "metadata": {},
     "output_type": "execute_result"
    }
   ],
   "source": [
    "num=re.findall(r'\\d{2}\\>\\;\\srel=\"last\"',response.headers['link'])\n",
    "num"
   ]
  },
  {
   "cell_type": "code",
   "execution_count": 198,
   "metadata": {},
   "outputs": [
    {
     "data": {
      "text/plain": [
       "<re.Match object; span=(0, 1), match='1'>"
      ]
     },
     "execution_count": 198,
     "metadata": {},
     "output_type": "execute_result"
    }
   ],
   "source": [
    "n=re.search(r'\\d',num[0])\n",
    "n"
   ]
  },
  {
   "cell_type": "code",
   "execution_count": 131,
   "metadata": {},
   "outputs": [],
   "source": [
    "data = response.json()"
   ]
  },
  {
   "cell_type": "code",
   "execution_count": 135,
   "metadata": {},
   "outputs": [
    {
     "data": {
      "text/plain": [
       "{'url': 'https://api.github.com/repos/ironhack-datalabs/datamad0820/pulls/518',\n",
       " 'id': 488244362,\n",
       " 'node_id': 'MDExOlB1bGxSZXF1ZXN0NDg4MjQ0MzYy',\n",
       " 'html_url': 'https://github.com/ironhack-datalabs/datamad0820/pull/518',\n",
       " 'diff_url': 'https://github.com/ironhack-datalabs/datamad0820/pull/518.diff',\n",
       " 'patch_url': 'https://github.com/ironhack-datalabs/datamad0820/pull/518.patch',\n",
       " 'issue_url': 'https://api.github.com/repos/ironhack-datalabs/datamad0820/issues/518',\n",
       " 'number': 518,\n",
       " 'state': 'closed',\n",
       " 'locked': False,\n",
       " 'title': '[lab-code-simplicity-efficiency] Raul Fernandez',\n",
       " 'user': {'login': 'rfminguez',\n",
       "  'id': 5184420,\n",
       "  'node_id': 'MDQ6VXNlcjUxODQ0MjA=',\n",
       "  'avatar_url': 'https://avatars1.githubusercontent.com/u/5184420?v=4',\n",
       "  'gravatar_id': '',\n",
       "  'url': 'https://api.github.com/users/rfminguez',\n",
       "  'html_url': 'https://github.com/rfminguez',\n",
       "  'followers_url': 'https://api.github.com/users/rfminguez/followers',\n",
       "  'following_url': 'https://api.github.com/users/rfminguez/following{/other_user}',\n",
       "  'gists_url': 'https://api.github.com/users/rfminguez/gists{/gist_id}',\n",
       "  'starred_url': 'https://api.github.com/users/rfminguez/starred{/owner}{/repo}',\n",
       "  'subscriptions_url': 'https://api.github.com/users/rfminguez/subscriptions',\n",
       "  'organizations_url': 'https://api.github.com/users/rfminguez/orgs',\n",
       "  'repos_url': 'https://api.github.com/users/rfminguez/repos',\n",
       "  'events_url': 'https://api.github.com/users/rfminguez/events{/privacy}',\n",
       "  'received_events_url': 'https://api.github.com/users/rfminguez/received_events',\n",
       "  'type': 'User',\n",
       "  'site_admin': False},\n",
       " 'body': 'Hola,\\r\\n\\r\\nDejo la solución a los challenges 1, 2  y 3. El bonus no lo he conseguido avanzar (la programación recursiva se me hace bola).\\r\\n\\r\\nUn saludo.',\n",
       " 'created_at': '2020-09-16T21:04:18Z',\n",
       " 'updated_at': '2020-09-21T14:28:17Z',\n",
       " 'closed_at': '2020-09-21T14:28:16Z',\n",
       " 'merged_at': None,\n",
       " 'merge_commit_sha': '735dbfc9d34b1e1a1e2c4993069f07feb44262f7',\n",
       " 'assignee': {'login': 'ferrero-felipe',\n",
       "  'id': 52798316,\n",
       "  'node_id': 'MDQ6VXNlcjUyNzk4MzE2',\n",
       "  'avatar_url': 'https://avatars2.githubusercontent.com/u/52798316?v=4',\n",
       "  'gravatar_id': '',\n",
       "  'url': 'https://api.github.com/users/ferrero-felipe',\n",
       "  'html_url': 'https://github.com/ferrero-felipe',\n",
       "  'followers_url': 'https://api.github.com/users/ferrero-felipe/followers',\n",
       "  'following_url': 'https://api.github.com/users/ferrero-felipe/following{/other_user}',\n",
       "  'gists_url': 'https://api.github.com/users/ferrero-felipe/gists{/gist_id}',\n",
       "  'starred_url': 'https://api.github.com/users/ferrero-felipe/starred{/owner}{/repo}',\n",
       "  'subscriptions_url': 'https://api.github.com/users/ferrero-felipe/subscriptions',\n",
       "  'organizations_url': 'https://api.github.com/users/ferrero-felipe/orgs',\n",
       "  'repos_url': 'https://api.github.com/users/ferrero-felipe/repos',\n",
       "  'events_url': 'https://api.github.com/users/ferrero-felipe/events{/privacy}',\n",
       "  'received_events_url': 'https://api.github.com/users/ferrero-felipe/received_events',\n",
       "  'type': 'User',\n",
       "  'site_admin': False},\n",
       " 'assignees': [{'login': 'ferrero-felipe',\n",
       "   'id': 52798316,\n",
       "   'node_id': 'MDQ6VXNlcjUyNzk4MzE2',\n",
       "   'avatar_url': 'https://avatars2.githubusercontent.com/u/52798316?v=4',\n",
       "   'gravatar_id': '',\n",
       "   'url': 'https://api.github.com/users/ferrero-felipe',\n",
       "   'html_url': 'https://github.com/ferrero-felipe',\n",
       "   'followers_url': 'https://api.github.com/users/ferrero-felipe/followers',\n",
       "   'following_url': 'https://api.github.com/users/ferrero-felipe/following{/other_user}',\n",
       "   'gists_url': 'https://api.github.com/users/ferrero-felipe/gists{/gist_id}',\n",
       "   'starred_url': 'https://api.github.com/users/ferrero-felipe/starred{/owner}{/repo}',\n",
       "   'subscriptions_url': 'https://api.github.com/users/ferrero-felipe/subscriptions',\n",
       "   'organizations_url': 'https://api.github.com/users/ferrero-felipe/orgs',\n",
       "   'repos_url': 'https://api.github.com/users/ferrero-felipe/repos',\n",
       "   'events_url': 'https://api.github.com/users/ferrero-felipe/events{/privacy}',\n",
       "   'received_events_url': 'https://api.github.com/users/ferrero-felipe/received_events',\n",
       "   'type': 'User',\n",
       "   'site_admin': False}],\n",
       " 'requested_reviewers': [],\n",
       " 'requested_teams': [],\n",
       " 'labels': [{'id': 2283640149,\n",
       "   'node_id': 'MDU6TGFiZWwyMjgzNjQwMTQ5',\n",
       "   'url': 'https://api.github.com/repos/ironhack-datalabs/datamad0820/labels/VALID',\n",
       "   'name': 'VALID',\n",
       "   'color': 'c9e3ff',\n",
       "   'default': False,\n",
       "   'description': ''}],\n",
       " 'milestone': None,\n",
       " 'draft': False,\n",
       " 'commits_url': 'https://api.github.com/repos/ironhack-datalabs/datamad0820/pulls/518/commits',\n",
       " 'review_comments_url': 'https://api.github.com/repos/ironhack-datalabs/datamad0820/pulls/518/comments',\n",
       " 'review_comment_url': 'https://api.github.com/repos/ironhack-datalabs/datamad0820/pulls/comments{/number}',\n",
       " 'comments_url': 'https://api.github.com/repos/ironhack-datalabs/datamad0820/issues/518/comments',\n",
       " 'statuses_url': 'https://api.github.com/repos/ironhack-datalabs/datamad0820/statuses/970f8012d86fa878df90b851d178558342698bf7',\n",
       " 'head': {'label': 'rfminguez:lab-code-simplicity-efficiency',\n",
       "  'ref': 'lab-code-simplicity-efficiency',\n",
       "  'sha': '970f8012d86fa878df90b851d178558342698bf7',\n",
       "  'user': {'login': 'rfminguez',\n",
       "   'id': 5184420,\n",
       "   'node_id': 'MDQ6VXNlcjUxODQ0MjA=',\n",
       "   'avatar_url': 'https://avatars1.githubusercontent.com/u/5184420?v=4',\n",
       "   'gravatar_id': '',\n",
       "   'url': 'https://api.github.com/users/rfminguez',\n",
       "   'html_url': 'https://github.com/rfminguez',\n",
       "   'followers_url': 'https://api.github.com/users/rfminguez/followers',\n",
       "   'following_url': 'https://api.github.com/users/rfminguez/following{/other_user}',\n",
       "   'gists_url': 'https://api.github.com/users/rfminguez/gists{/gist_id}',\n",
       "   'starred_url': 'https://api.github.com/users/rfminguez/starred{/owner}{/repo}',\n",
       "   'subscriptions_url': 'https://api.github.com/users/rfminguez/subscriptions',\n",
       "   'organizations_url': 'https://api.github.com/users/rfminguez/orgs',\n",
       "   'repos_url': 'https://api.github.com/users/rfminguez/repos',\n",
       "   'events_url': 'https://api.github.com/users/rfminguez/events{/privacy}',\n",
       "   'received_events_url': 'https://api.github.com/users/rfminguez/received_events',\n",
       "   'type': 'User',\n",
       "   'site_admin': False},\n",
       "  'repo': {'id': 288163702,\n",
       "   'node_id': 'MDEwOlJlcG9zaXRvcnkyODgxNjM3MDI=',\n",
       "   'name': 'datamad0820',\n",
       "   'full_name': 'rfminguez/datamad0820',\n",
       "   'private': False,\n",
       "   'owner': {'login': 'rfminguez',\n",
       "    'id': 5184420,\n",
       "    'node_id': 'MDQ6VXNlcjUxODQ0MjA=',\n",
       "    'avatar_url': 'https://avatars1.githubusercontent.com/u/5184420?v=4',\n",
       "    'gravatar_id': '',\n",
       "    'url': 'https://api.github.com/users/rfminguez',\n",
       "    'html_url': 'https://github.com/rfminguez',\n",
       "    'followers_url': 'https://api.github.com/users/rfminguez/followers',\n",
       "    'following_url': 'https://api.github.com/users/rfminguez/following{/other_user}',\n",
       "    'gists_url': 'https://api.github.com/users/rfminguez/gists{/gist_id}',\n",
       "    'starred_url': 'https://api.github.com/users/rfminguez/starred{/owner}{/repo}',\n",
       "    'subscriptions_url': 'https://api.github.com/users/rfminguez/subscriptions',\n",
       "    'organizations_url': 'https://api.github.com/users/rfminguez/orgs',\n",
       "    'repos_url': 'https://api.github.com/users/rfminguez/repos',\n",
       "    'events_url': 'https://api.github.com/users/rfminguez/events{/privacy}',\n",
       "    'received_events_url': 'https://api.github.com/users/rfminguez/received_events',\n",
       "    'type': 'User',\n",
       "    'site_admin': False},\n",
       "   'html_url': 'https://github.com/rfminguez/datamad0820',\n",
       "   'description': None,\n",
       "   'fork': True,\n",
       "   'url': 'https://api.github.com/repos/rfminguez/datamad0820',\n",
       "   'forks_url': 'https://api.github.com/repos/rfminguez/datamad0820/forks',\n",
       "   'keys_url': 'https://api.github.com/repos/rfminguez/datamad0820/keys{/key_id}',\n",
       "   'collaborators_url': 'https://api.github.com/repos/rfminguez/datamad0820/collaborators{/collaborator}',\n",
       "   'teams_url': 'https://api.github.com/repos/rfminguez/datamad0820/teams',\n",
       "   'hooks_url': 'https://api.github.com/repos/rfminguez/datamad0820/hooks',\n",
       "   'issue_events_url': 'https://api.github.com/repos/rfminguez/datamad0820/issues/events{/number}',\n",
       "   'events_url': 'https://api.github.com/repos/rfminguez/datamad0820/events',\n",
       "   'assignees_url': 'https://api.github.com/repos/rfminguez/datamad0820/assignees{/user}',\n",
       "   'branches_url': 'https://api.github.com/repos/rfminguez/datamad0820/branches{/branch}',\n",
       "   'tags_url': 'https://api.github.com/repos/rfminguez/datamad0820/tags',\n",
       "   'blobs_url': 'https://api.github.com/repos/rfminguez/datamad0820/git/blobs{/sha}',\n",
       "   'git_tags_url': 'https://api.github.com/repos/rfminguez/datamad0820/git/tags{/sha}',\n",
       "   'git_refs_url': 'https://api.github.com/repos/rfminguez/datamad0820/git/refs{/sha}',\n",
       "   'trees_url': 'https://api.github.com/repos/rfminguez/datamad0820/git/trees{/sha}',\n",
       "   'statuses_url': 'https://api.github.com/repos/rfminguez/datamad0820/statuses/{sha}',\n",
       "   'languages_url': 'https://api.github.com/repos/rfminguez/datamad0820/languages',\n",
       "   'stargazers_url': 'https://api.github.com/repos/rfminguez/datamad0820/stargazers',\n",
       "   'contributors_url': 'https://api.github.com/repos/rfminguez/datamad0820/contributors',\n",
       "   'subscribers_url': 'https://api.github.com/repos/rfminguez/datamad0820/subscribers',\n",
       "   'subscription_url': 'https://api.github.com/repos/rfminguez/datamad0820/subscription',\n",
       "   'commits_url': 'https://api.github.com/repos/rfminguez/datamad0820/commits{/sha}',\n",
       "   'git_commits_url': 'https://api.github.com/repos/rfminguez/datamad0820/git/commits{/sha}',\n",
       "   'comments_url': 'https://api.github.com/repos/rfminguez/datamad0820/comments{/number}',\n",
       "   'issue_comment_url': 'https://api.github.com/repos/rfminguez/datamad0820/issues/comments{/number}',\n",
       "   'contents_url': 'https://api.github.com/repos/rfminguez/datamad0820/contents/{+path}',\n",
       "   'compare_url': 'https://api.github.com/repos/rfminguez/datamad0820/compare/{base}...{head}',\n",
       "   'merges_url': 'https://api.github.com/repos/rfminguez/datamad0820/merges',\n",
       "   'archive_url': 'https://api.github.com/repos/rfminguez/datamad0820/{archive_format}{/ref}',\n",
       "   'downloads_url': 'https://api.github.com/repos/rfminguez/datamad0820/downloads',\n",
       "   'issues_url': 'https://api.github.com/repos/rfminguez/datamad0820/issues{/number}',\n",
       "   'pulls_url': 'https://api.github.com/repos/rfminguez/datamad0820/pulls{/number}',\n",
       "   'milestones_url': 'https://api.github.com/repos/rfminguez/datamad0820/milestones{/number}',\n",
       "   'notifications_url': 'https://api.github.com/repos/rfminguez/datamad0820/notifications{?since,all,participating}',\n",
       "   'labels_url': 'https://api.github.com/repos/rfminguez/datamad0820/labels{/name}',\n",
       "   'releases_url': 'https://api.github.com/repos/rfminguez/datamad0820/releases{/id}',\n",
       "   'deployments_url': 'https://api.github.com/repos/rfminguez/datamad0820/deployments',\n",
       "   'created_at': '2020-08-17T11:36:38Z',\n",
       "   'updated_at': '2020-09-10T14:45:53Z',\n",
       "   'pushed_at': '2020-09-17T18:46:05Z',\n",
       "   'git_url': 'git://github.com/rfminguez/datamad0820.git',\n",
       "   'ssh_url': 'git@github.com:rfminguez/datamad0820.git',\n",
       "   'clone_url': 'https://github.com/rfminguez/datamad0820.git',\n",
       "   'svn_url': 'https://github.com/rfminguez/datamad0820',\n",
       "   'homepage': None,\n",
       "   'size': 164767,\n",
       "   'stargazers_count': 0,\n",
       "   'watchers_count': 0,\n",
       "   'language': 'Jupyter Notebook',\n",
       "   'has_issues': False,\n",
       "   'has_projects': True,\n",
       "   'has_downloads': True,\n",
       "   'has_wiki': True,\n",
       "   'has_pages': False,\n",
       "   'forks_count': 0,\n",
       "   'mirror_url': None,\n",
       "   'archived': False,\n",
       "   'disabled': False,\n",
       "   'open_issues_count': 0,\n",
       "   'license': {'key': 'agpl-3.0',\n",
       "    'name': 'GNU Affero General Public License v3.0',\n",
       "    'spdx_id': 'AGPL-3.0',\n",
       "    'url': 'https://api.github.com/licenses/agpl-3.0',\n",
       "    'node_id': 'MDc6TGljZW5zZTE='},\n",
       "   'forks': 0,\n",
       "   'open_issues': 0,\n",
       "   'watchers': 0,\n",
       "   'default_branch': 'master'}},\n",
       " 'base': {'label': 'ironhack-datalabs:master',\n",
       "  'ref': 'master',\n",
       "  'sha': 'f6f05d6acc88dafc3b08699bc792d067880738c7',\n",
       "  'user': {'login': 'ironhack-datalabs',\n",
       "   'id': 44225188,\n",
       "   'node_id': 'MDEyOk9yZ2FuaXphdGlvbjQ0MjI1MTg4',\n",
       "   'avatar_url': 'https://avatars2.githubusercontent.com/u/44225188?v=4',\n",
       "   'gravatar_id': '',\n",
       "   'url': 'https://api.github.com/users/ironhack-datalabs',\n",
       "   'html_url': 'https://github.com/ironhack-datalabs',\n",
       "   'followers_url': 'https://api.github.com/users/ironhack-datalabs/followers',\n",
       "   'following_url': 'https://api.github.com/users/ironhack-datalabs/following{/other_user}',\n",
       "   'gists_url': 'https://api.github.com/users/ironhack-datalabs/gists{/gist_id}',\n",
       "   'starred_url': 'https://api.github.com/users/ironhack-datalabs/starred{/owner}{/repo}',\n",
       "   'subscriptions_url': 'https://api.github.com/users/ironhack-datalabs/subscriptions',\n",
       "   'organizations_url': 'https://api.github.com/users/ironhack-datalabs/orgs',\n",
       "   'repos_url': 'https://api.github.com/users/ironhack-datalabs/repos',\n",
       "   'events_url': 'https://api.github.com/users/ironhack-datalabs/events{/privacy}',\n",
       "   'received_events_url': 'https://api.github.com/users/ironhack-datalabs/received_events',\n",
       "   'type': 'Organization',\n",
       "   'site_admin': False},\n",
       "  'repo': {'id': 288154375,\n",
       "   'node_id': 'MDEwOlJlcG9zaXRvcnkyODgxNTQzNzU=',\n",
       "   'name': 'datamad0820',\n",
       "   'full_name': 'ironhack-datalabs/datamad0820',\n",
       "   'private': False,\n",
       "   'owner': {'login': 'ironhack-datalabs',\n",
       "    'id': 44225188,\n",
       "    'node_id': 'MDEyOk9yZ2FuaXphdGlvbjQ0MjI1MTg4',\n",
       "    'avatar_url': 'https://avatars2.githubusercontent.com/u/44225188?v=4',\n",
       "    'gravatar_id': '',\n",
       "    'url': 'https://api.github.com/users/ironhack-datalabs',\n",
       "    'html_url': 'https://github.com/ironhack-datalabs',\n",
       "    'followers_url': 'https://api.github.com/users/ironhack-datalabs/followers',\n",
       "    'following_url': 'https://api.github.com/users/ironhack-datalabs/following{/other_user}',\n",
       "    'gists_url': 'https://api.github.com/users/ironhack-datalabs/gists{/gist_id}',\n",
       "    'starred_url': 'https://api.github.com/users/ironhack-datalabs/starred{/owner}{/repo}',\n",
       "    'subscriptions_url': 'https://api.github.com/users/ironhack-datalabs/subscriptions',\n",
       "    'organizations_url': 'https://api.github.com/users/ironhack-datalabs/orgs',\n",
       "    'repos_url': 'https://api.github.com/users/ironhack-datalabs/repos',\n",
       "    'events_url': 'https://api.github.com/users/ironhack-datalabs/events{/privacy}',\n",
       "    'received_events_url': 'https://api.github.com/users/ironhack-datalabs/received_events',\n",
       "    'type': 'Organization',\n",
       "    'site_admin': False},\n",
       "   'html_url': 'https://github.com/ironhack-datalabs/datamad0820',\n",
       "   'description': None,\n",
       "   'fork': False,\n",
       "   'url': 'https://api.github.com/repos/ironhack-datalabs/datamad0820',\n",
       "   'forks_url': 'https://api.github.com/repos/ironhack-datalabs/datamad0820/forks',\n",
       "   'keys_url': 'https://api.github.com/repos/ironhack-datalabs/datamad0820/keys{/key_id}',\n",
       "   'collaborators_url': 'https://api.github.com/repos/ironhack-datalabs/datamad0820/collaborators{/collaborator}',\n",
       "   'teams_url': 'https://api.github.com/repos/ironhack-datalabs/datamad0820/teams',\n",
       "   'hooks_url': 'https://api.github.com/repos/ironhack-datalabs/datamad0820/hooks',\n",
       "   'issue_events_url': 'https://api.github.com/repos/ironhack-datalabs/datamad0820/issues/events{/number}',\n",
       "   'events_url': 'https://api.github.com/repos/ironhack-datalabs/datamad0820/events',\n",
       "   'assignees_url': 'https://api.github.com/repos/ironhack-datalabs/datamad0820/assignees{/user}',\n",
       "   'branches_url': 'https://api.github.com/repos/ironhack-datalabs/datamad0820/branches{/branch}',\n",
       "   'tags_url': 'https://api.github.com/repos/ironhack-datalabs/datamad0820/tags',\n",
       "   'blobs_url': 'https://api.github.com/repos/ironhack-datalabs/datamad0820/git/blobs{/sha}',\n",
       "   'git_tags_url': 'https://api.github.com/repos/ironhack-datalabs/datamad0820/git/tags{/sha}',\n",
       "   'git_refs_url': 'https://api.github.com/repos/ironhack-datalabs/datamad0820/git/refs{/sha}',\n",
       "   'trees_url': 'https://api.github.com/repos/ironhack-datalabs/datamad0820/git/trees{/sha}',\n",
       "   'statuses_url': 'https://api.github.com/repos/ironhack-datalabs/datamad0820/statuses/{sha}',\n",
       "   'languages_url': 'https://api.github.com/repos/ironhack-datalabs/datamad0820/languages',\n",
       "   'stargazers_url': 'https://api.github.com/repos/ironhack-datalabs/datamad0820/stargazers',\n",
       "   'contributors_url': 'https://api.github.com/repos/ironhack-datalabs/datamad0820/contributors',\n",
       "   'subscribers_url': 'https://api.github.com/repos/ironhack-datalabs/datamad0820/subscribers',\n",
       "   'subscription_url': 'https://api.github.com/repos/ironhack-datalabs/datamad0820/subscription',\n",
       "   'commits_url': 'https://api.github.com/repos/ironhack-datalabs/datamad0820/commits{/sha}',\n",
       "   'git_commits_url': 'https://api.github.com/repos/ironhack-datalabs/datamad0820/git/commits{/sha}',\n",
       "   'comments_url': 'https://api.github.com/repos/ironhack-datalabs/datamad0820/comments{/number}',\n",
       "   'issue_comment_url': 'https://api.github.com/repos/ironhack-datalabs/datamad0820/issues/comments{/number}',\n",
       "   'contents_url': 'https://api.github.com/repos/ironhack-datalabs/datamad0820/contents/{+path}',\n",
       "   'compare_url': 'https://api.github.com/repos/ironhack-datalabs/datamad0820/compare/{base}...{head}',\n",
       "   'merges_url': 'https://api.github.com/repos/ironhack-datalabs/datamad0820/merges',\n",
       "   'archive_url': 'https://api.github.com/repos/ironhack-datalabs/datamad0820/{archive_format}{/ref}',\n",
       "   'downloads_url': 'https://api.github.com/repos/ironhack-datalabs/datamad0820/downloads',\n",
       "   'issues_url': 'https://api.github.com/repos/ironhack-datalabs/datamad0820/issues{/number}',\n",
       "   'pulls_url': 'https://api.github.com/repos/ironhack-datalabs/datamad0820/pulls{/number}',\n",
       "   'milestones_url': 'https://api.github.com/repos/ironhack-datalabs/datamad0820/milestones{/number}',\n",
       "   'notifications_url': 'https://api.github.com/repos/ironhack-datalabs/datamad0820/notifications{?since,all,participating}',\n",
       "   'labels_url': 'https://api.github.com/repos/ironhack-datalabs/datamad0820/labels{/name}',\n",
       "   'releases_url': 'https://api.github.com/repos/ironhack-datalabs/datamad0820/releases{/id}',\n",
       "   'deployments_url': 'https://api.github.com/repos/ironhack-datalabs/datamad0820/deployments',\n",
       "   'created_at': '2020-08-17T10:48:15Z',\n",
       "   'updated_at': '2020-09-10T14:27:07Z',\n",
       "   'pushed_at': '2020-09-18T10:35:43Z',\n",
       "   'git_url': 'git://github.com/ironhack-datalabs/datamad0820.git',\n",
       "   'ssh_url': 'git@github.com:ironhack-datalabs/datamad0820.git',\n",
       "   'clone_url': 'https://github.com/ironhack-datalabs/datamad0820.git',\n",
       "   'svn_url': 'https://github.com/ironhack-datalabs/datamad0820',\n",
       "   'homepage': None,\n",
       "   'size': 162760,\n",
       "   'stargazers_count': 0,\n",
       "   'watchers_count': 0,\n",
       "   'language': 'Jupyter Notebook',\n",
       "   'has_issues': True,\n",
       "   'has_projects': True,\n",
       "   'has_downloads': True,\n",
       "   'has_wiki': True,\n",
       "   'has_pages': False,\n",
       "   'forks_count': 29,\n",
       "   'mirror_url': None,\n",
       "   'archived': False,\n",
       "   'disabled': False,\n",
       "   'open_issues_count': 48,\n",
       "   'license': {'key': 'agpl-3.0',\n",
       "    'name': 'GNU Affero General Public License v3.0',\n",
       "    'spdx_id': 'AGPL-3.0',\n",
       "    'url': 'https://api.github.com/licenses/agpl-3.0',\n",
       "    'node_id': 'MDc6TGljZW5zZTE='},\n",
       "   'forks': 29,\n",
       "   'open_issues': 48,\n",
       "   'watchers': 0,\n",
       "   'default_branch': 'master'}},\n",
       " '_links': {'self': {'href': 'https://api.github.com/repos/ironhack-datalabs/datamad0820/pulls/518'},\n",
       "  'html': {'href': 'https://github.com/ironhack-datalabs/datamad0820/pull/518'},\n",
       "  'issue': {'href': 'https://api.github.com/repos/ironhack-datalabs/datamad0820/issues/518'},\n",
       "  'comments': {'href': 'https://api.github.com/repos/ironhack-datalabs/datamad0820/issues/518/comments'},\n",
       "  'review_comments': {'href': 'https://api.github.com/repos/ironhack-datalabs/datamad0820/pulls/518/comments'},\n",
       "  'review_comment': {'href': 'https://api.github.com/repos/ironhack-datalabs/datamad0820/pulls/comments{/number}'},\n",
       "  'commits': {'href': 'https://api.github.com/repos/ironhack-datalabs/datamad0820/pulls/518/commits'},\n",
       "  'statuses': {'href': 'https://api.github.com/repos/ironhack-datalabs/datamad0820/statuses/970f8012d86fa878df90b851d178558342698bf7'}},\n",
       " 'author_association': 'NONE',\n",
       " 'active_lock_reason': None}"
      ]
     },
     "execution_count": 135,
     "metadata": {},
     "output_type": "execute_result"
    }
   ],
   "source": [
    "data[0]"
   ]
  },
  {
   "cell_type": "code",
   "execution_count": 141,
   "metadata": {},
   "outputs": [
    {
     "ename": "KeyError",
     "evalue": "'commits'",
     "output_type": "error",
     "traceback": [
      "\u001b[0;31m---------------------------------------------------------------------------\u001b[0m",
      "\u001b[0;31mKeyError\u001b[0m                                  Traceback (most recent call last)",
      "\u001b[0;32m<ipython-input-141-76697bc4dab7>\u001b[0m in \u001b[0;36m<module>\u001b[0;34m\u001b[0m\n\u001b[0;32m----> 1\u001b[0;31m \u001b[0mdata\u001b[0m\u001b[0;34m[\u001b[0m\u001b[0;36m0\u001b[0m\u001b[0;34m]\u001b[0m\u001b[0;34m[\u001b[0m\u001b[0;34m'commits'\u001b[0m\u001b[0;34m]\u001b[0m\u001b[0;34m\u001b[0m\u001b[0;34m\u001b[0m\u001b[0m\n\u001b[0m",
      "\u001b[0;31mKeyError\u001b[0m: 'commits'"
     ]
    }
   ],
   "source": [
    "data[0]['commits']"
   ]
  },
  {
   "cell_type": "code",
   "execution_count": 145,
   "metadata": {},
   "outputs": [],
   "source": []
  },
  {
   "cell_type": "code",
   "execution_count": 146,
   "metadata": {},
   "outputs": [
    {
     "data": {
      "text/plain": [
       "[]"
      ]
     },
     "execution_count": 146,
     "metadata": {},
     "output_type": "execute_result"
    }
   ],
   "source": []
  },
  {
   "cell_type": "code",
   "execution_count": 137,
   "metadata": {},
   "outputs": [
    {
     "data": {
      "text/plain": [
       "[{'login': 'ferrero-felipe',\n",
       "  'id': 52798316,\n",
       "  'node_id': 'MDQ6VXNlcjUyNzk4MzE2',\n",
       "  'avatar_url': 'https://avatars2.githubusercontent.com/u/52798316?v=4',\n",
       "  'gravatar_id': '',\n",
       "  'url': 'https://api.github.com/users/ferrero-felipe',\n",
       "  'html_url': 'https://github.com/ferrero-felipe',\n",
       "  'followers_url': 'https://api.github.com/users/ferrero-felipe/followers',\n",
       "  'following_url': 'https://api.github.com/users/ferrero-felipe/following{/other_user}',\n",
       "  'gists_url': 'https://api.github.com/users/ferrero-felipe/gists{/gist_id}',\n",
       "  'starred_url': 'https://api.github.com/users/ferrero-felipe/starred{/owner}{/repo}',\n",
       "  'subscriptions_url': 'https://api.github.com/users/ferrero-felipe/subscriptions',\n",
       "  'organizations_url': 'https://api.github.com/users/ferrero-felipe/orgs',\n",
       "  'repos_url': 'https://api.github.com/users/ferrero-felipe/repos',\n",
       "  'events_url': 'https://api.github.com/users/ferrero-felipe/events{/privacy}',\n",
       "  'received_events_url': 'https://api.github.com/users/ferrero-felipe/received_events',\n",
       "  'type': 'User',\n",
       "  'site_admin': False}]"
      ]
     },
     "execution_count": 137,
     "metadata": {},
     "output_type": "execute_result"
    }
   ],
   "source": [
    "data[0]['assignees']"
   ]
  },
  {
   "cell_type": "code",
   "execution_count": 118,
   "metadata": {
    "scrolled": true
   },
   "outputs": [],
   "source": [
    "data=soup.find_all('title')"
   ]
  },
  {
   "cell_type": "code",
   "execution_count": null,
   "metadata": {},
   "outputs": [],
   "source": [
    "#tag = soup.find_all('p')[0]"
   ]
  },
  {
   "cell_type": "code",
   "execution_count": null,
   "metadata": {},
   "outputs": [],
   "source": [
    "#h1 = soup.select('h1.h3 a[href]')"
   ]
  },
  {
   "cell_type": "code",
   "execution_count": null,
   "metadata": {},
   "outputs": [],
   "source": [
    "p=soup.select('p.f4 a[href]')"
   ]
  },
  {
   "cell_type": "code",
   "execution_count": 93,
   "metadata": {},
   "outputs": [
    {
     "ename": "TypeError",
     "evalue": "'Response' object is not subscriptable",
     "output_type": "error",
     "traceback": [
      "\u001b[0;31m---------------------------------------------------------------------------\u001b[0m",
      "\u001b[0;31mTypeError\u001b[0m                                 Traceback (most recent call last)",
      "\u001b[0;32m<ipython-input-93-fa84ae67a460>\u001b[0m in \u001b[0;36m<module>\u001b[0;34m\u001b[0m\n\u001b[0;32m----> 1\u001b[0;31m \u001b[0mresponse\u001b[0m\u001b[0;34m[\u001b[0m\u001b[0;36m0\u001b[0m\u001b[0;34m]\u001b[0m\u001b[0;34m[\u001b[0m\u001b[0;34m'title'\u001b[0m\u001b[0;34m]\u001b[0m\u001b[0;34m\u001b[0m\u001b[0;34m\u001b[0m\u001b[0m\n\u001b[0m",
      "\u001b[0;31mTypeError\u001b[0m: 'Response' object is not subscriptable"
     ]
    }
   ],
   "source": [
    "response[0]['title']"
   ]
  },
  {
   "cell_type": "code",
   "execution_count": 47,
   "metadata": {},
   "outputs": [
    {
     "data": {
      "text/plain": [
       "'gontzalm'"
      ]
     },
     "execution_count": 47,
     "metadata": {},
     "output_type": "execute_result"
    }
   ],
   "source": [
    "response[0]['user']['login']"
   ]
  },
  {
   "cell_type": "code",
   "execution_count": 65,
   "metadata": {},
   "outputs": [
    {
     "data": {
      "text/plain": [
       "'https://api.github.com/repos/ironhack-datalabs/datamad0820/issues/506/comments'"
      ]
     },
     "execution_count": 65,
     "metadata": {},
     "output_type": "execute_result"
    }
   ],
   "source": [
    "response[0]['comments_url']"
   ]
  },
  {
   "cell_type": "code",
   "execution_count": 70,
   "metadata": {},
   "outputs": [
    {
     "ename": "AttributeError",
     "evalue": "'list' object has no attribute 'text'",
     "output_type": "error",
     "traceback": [
      "\u001b[0;31m---------------------------------------------------------------------------\u001b[0m",
      "\u001b[0;31mAttributeError\u001b[0m                            Traceback (most recent call last)",
      "\u001b[0;32m<ipython-input-70-2c749f6c0467>\u001b[0m in \u001b[0;36m<module>\u001b[0;34m\u001b[0m\n\u001b[0;32m----> 1\u001b[0;31m \u001b[0msoup\u001b[0m \u001b[0;34m=\u001b[0m \u001b[0mBeautifulSoup\u001b[0m\u001b[0;34m(\u001b[0m\u001b[0mresponse\u001b[0m\u001b[0;34m.\u001b[0m\u001b[0mtext\u001b[0m\u001b[0;34m,\u001b[0m \u001b[0;34m'html.parser'\u001b[0m\u001b[0;34m)\u001b[0m\u001b[0;34m\u001b[0m\u001b[0;34m\u001b[0m\u001b[0m\n\u001b[0m",
      "\u001b[0;31mAttributeError\u001b[0m: 'list' object has no attribute 'text'"
     ]
    }
   ],
   "source": [
    "soup = BeautifulSoup(response.text, 'html.parser')"
   ]
  },
  {
   "cell_type": "code",
   "execution_count": 69,
   "metadata": {},
   "outputs": [
    {
     "ename": "NameError",
     "evalue": "name 'getPage' is not defined",
     "output_type": "error",
     "traceback": [
      "\u001b[0;31m---------------------------------------------------------------------------\u001b[0m",
      "\u001b[0;31mNameError\u001b[0m                                 Traceback (most recent call last)",
      "\u001b[0;32m<ipython-input-69-2a7f7d8cefc9>\u001b[0m in \u001b[0;36m<module>\u001b[0;34m\u001b[0m\n\u001b[0;32m----> 1\u001b[0;31m \u001b[0msoup\u001b[0m \u001b[0;34m=\u001b[0m \u001b[0mgetPage\u001b[0m\u001b[0;34m(\u001b[0m\u001b[0;34m\"https://twitter.com/albertochicote\"\u001b[0m\u001b[0;34m)\u001b[0m\u001b[0;34m\u001b[0m\u001b[0;34m\u001b[0m\u001b[0m\n\u001b[0m",
      "\u001b[0;31mNameError\u001b[0m: name 'getPage' is not defined"
     ]
    }
   ],
   "source": [
    "soup = getPage(\"https://twitter.com/albertochicote\")"
   ]
  }
 ],
 "metadata": {
  "kernelspec": {
   "display_name": "Python 3",
   "language": "python",
   "name": "python3"
  },
  "language_info": {
   "codemirror_mode": {
    "name": "ipython",
    "version": 3
   },
   "file_extension": ".py",
   "mimetype": "text/x-python",
   "name": "python",
   "nbconvert_exporter": "python",
   "pygments_lexer": "ipython3",
   "version": "3.8.2"
  }
 },
 "nbformat": 4,
 "nbformat_minor": 4
}
